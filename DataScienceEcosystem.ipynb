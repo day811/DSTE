{
 "cells": [
  {
   "cell_type": "markdown",
   "id": "c4c6e325-20d9-4a2a-9ca4-c46f967dd094",
   "metadata": {},
   "source": [
    "# Data Science Tools and Ecosystem"
   ]
  },
  {
   "cell_type": "markdown",
   "id": "71b6f20c-b1ff-4836-bb0f-9bdc0fb94c56",
   "metadata": {},
   "source": [
    "## Author\n",
    "Yves"
   ]
  },
  {
   "cell_type": "markdown",
   "id": "838d6e63-f8d5-4d57-a3f5-27d78c739792",
   "metadata": {},
   "source": [
    "In this notebook, Data Science Tools and Ecosystem are summarized."
   ]
  },
  {
   "cell_type": "markdown",
   "id": "9bff442b-77e9-4037-ba2e-9e4fe7c3bee5",
   "metadata": {},
   "source": [
    "**Objectives:**  \n",
    "- List popular languages for Data Science\n",
    "- List commonly libraries for Data Science\n",
    "- Use Markdown Cells\n",
    "- Use code Cell basic expressions"
   ]
  },
  {
   "cell_type": "markdown",
   "id": "6c2ab707-ea74-4be0-8e58-62c8b770c856",
   "metadata": {},
   "source": [
    "Some of the popular languages that Data Scientists use are:\n",
    "1. Python\n",
    "2. R\n",
    "3. Julia\n",
    "4. Java\n",
    "5. Ruby "
   ]
  },
  {
   "cell_type": "markdown",
   "id": "574da037-2290-4ac7-8134-2e8fc7c9408e",
   "metadata": {},
   "source": [
    "Some of the commonly used libraries used by Data Scientists include:\n",
    "1. NumPy\n",
    "2. ggplot\n",
    "3. SciPy\n",
    "4. TensorFlow\n",
    "5. SciJit-learn\n",
    "6. Pandas"
   ]
  },
  {
   "cell_type": "markdown",
   "id": "521fce7f-a7a0-4a6a-b540-1ff1929187c6",
   "metadata": {},
   "source": [
    "| Data Science Tools|\n",
    "|-------------------|\n",
    "| Jupyter           |\n",
    "| RStudio           |\n",
    "| MySql             |\n",
    "| IBM Watson Studio |\n",
    "| Apache AirFlow    |"
   ]
  },
  {
   "cell_type": "markdown",
   "id": "5b71fe79-23c3-4755-9d86-5378614c761c",
   "metadata": {},
   "source": [
    "### Below are a few examples of evaluating arithmetic expressions in Python"
   ]
  },
  {
   "cell_type": "code",
   "execution_count": 2,
   "id": "5aeb1651-3113-466d-98e4-1a2e83467e6b",
   "metadata": {},
   "outputs": [
    {
     "data": {
      "text/html": [
       "17"
      ],
      "text/latex": [
       "17"
      ],
      "text/markdown": [
       "17"
      ],
      "text/plain": [
       "[1] 17"
      ]
     },
     "metadata": {},
     "output_type": "display_data"
    }
   ],
   "source": [
    "(3*4)+5"
   ]
  },
  {
   "cell_type": "code",
   "execution_count": 3,
   "id": "c92d8dfb-d20b-4cba-bb27-8bb5cc5205ed",
   "metadata": {},
   "outputs": [
    {
     "data": {
      "text/html": [
       "3.33333333333333"
      ],
      "text/latex": [
       "3.33333333333333"
      ],
      "text/markdown": [
       "3.33333333333333"
      ],
      "text/plain": [
       "[1] 3.333333"
      ]
     },
     "metadata": {},
     "output_type": "display_data"
    }
   ],
   "source": [
    "# his will convert 200 minutes to hours by diving by 60\n",
    "200/60"
   ]
  }
 ],
 "metadata": {
  "kernelspec": {
   "display_name": "R",
   "language": "R",
   "name": "ir"
  },
  "language_info": {
   "codemirror_mode": "r",
   "file_extension": ".r",
   "mimetype": "text/x-r-source",
   "name": "R",
   "pygments_lexer": "r",
   "version": "3.6.1"
  }
 },
 "nbformat": 4,
 "nbformat_minor": 5
}
