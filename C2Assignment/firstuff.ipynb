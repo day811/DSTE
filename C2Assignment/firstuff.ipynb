{
 "cells": [
  {
   "cell_type": "markdown",
   "id": "0e80a222-ba2e-4581-be8d-5449c7d1d5f3",
   "metadata": {},
   "source": [
    "# My first tiny prog"
   ]
  },
  {
   "cell_type": "code",
   "execution_count": 2,
   "id": "2a1cd5f4-1aa8-4f64-ad11-feaec78168ff",
   "metadata": {},
   "outputs": [
    {
     "name": "stdout",
     "output_type": "stream",
     "text": [
      "40\n"
     ]
    }
   ],
   "source": [
    "x= max(3,5)\n",
    "y = min(12,8)\n",
    "print(x*y)"
   ]
  },
  {
   "cell_type": "code",
   "execution_count": 3,
   "id": "15c1f74d-0b7f-40d6-92b4-03e535dd951d",
   "metadata": {},
   "outputs": [
    {
     "data": {
      "text/plain": [
       "125"
      ]
     },
     "execution_count": 3,
     "metadata": {},
     "output_type": "execute_result"
    }
   ],
   "source": [
    "pow(5,3)"
   ]
  },
  {
   "cell_type": "code",
   "execution_count": null,
   "id": "5b9c3b77-8734-4c54-bf65-45131c30524b",
   "metadata": {},
   "outputs": [],
   "source": []
  }
 ],
 "metadata": {
  "kernelspec": {
   "display_name": "Python 3 (ipykernel)",
   "language": "python",
   "name": "python3"
  },
  "language_info": {
   "codemirror_mode": {
    "name": "ipython",
    "version": 3
   },
   "file_extension": ".py",
   "mimetype": "text/x-python",
   "name": "python",
   "nbconvert_exporter": "python",
   "pygments_lexer": "ipython3",
   "version": "3.12.9"
  }
 },
 "nbformat": 4,
 "nbformat_minor": 5
}
